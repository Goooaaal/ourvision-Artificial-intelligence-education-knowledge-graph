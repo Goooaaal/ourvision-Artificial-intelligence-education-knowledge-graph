{
 "cells": [
  {
   "cell_type": "code",
   "execution_count": 1,
   "metadata": {},
   "outputs": [],
   "source": [
    "# coding: utf-8\n",
    "from classifier import Classifier\n",
    "from neo_models import Neo4j\n",
    "from random import shuffle\n",
    "from time import time"
   ]
  },
  {
   "cell_type": "code",
   "execution_count": 2,
   "metadata": {},
   "outputs": [
    {
     "name": "stdout",
     "output_type": "stream",
     "text": [
      "create neo4j class ...\n",
      "load LabeledHudongItem over ...\n"
     ]
    }
   ],
   "source": [
    "# 读取neo4j内容\n",
    "db = Neo4j()\n",
    "db.connectDB()\n",
    "data_set = db.getLabeledHudongItem('labels.txt')"
   ]
  },
  {
   "cell_type": "code",
   "execution_count": 3,
   "metadata": {},
   "outputs": [
    {
     "name": "stdout",
     "output_type": "stream",
     "text": [
      "547\n",
      "classifier load over...\n"
     ]
    }
   ],
   "source": [
    "# 读取fasttext的模型\n",
    "shuffle(data_set)\n",
    "length = int(len(data_set)/10)\n",
    "\n",
    "vis = []  # 记录下每个label出现次数，控制每个label出现的个数\n",
    "for i in range(17):\n",
    "    vis.append(0)\n",
    "\n",
    "cur = []  # 让每类样本尽量分布均匀\n",
    "for p in data_set:\n",
    "    label = p.label\n",
    "    if vis[int(label)] > 30 and int(label) != 0:\n",
    "        continue\n",
    "    if vis[int(label)] > 50 and int(label) == 0:\n",
    "        continue\n",
    "    vis[int(label)] += 1\n",
    "    cur.append(p)\n",
    "    \n",
    "data_set = cur\n",
    "print(len(data_set))\n",
    "# split = len(data_set)*199/200\n",
    "# split = int(split) # 切分点\n",
    "# print(split)\n",
    "# train_set = data_set[:split]\n",
    "# test_set = data_set[split:]\n",
    "classifier = Classifier('wiki.zh.bin')"
   ]
  },
  {
   "cell_type": "code",
   "execution_count": 4,
   "metadata": {},
   "outputs": [],
   "source": [
    "def cross_verification(k_cv,data_set,W,k_num):  # k折叠交叉验证\n",
    "    length = int(len(data_set)/k_cv)\n",
    "    l = 0\n",
    "    aver = 0.0\n",
    "    for i in range(k_cv):\n",
    "        train_set = data_set[:length*i]\n",
    "        test_set = data_set[length*i:length*(i+1)]\n",
    "        train_set.extend(data_set[length*(i+1):])\n",
    "        classifier.load_trainSet(train_set)\n",
    "        classifier.set_parameter(weight=W,k=k_num)\n",
    "        count = 0\n",
    "        for p in test_set:\n",
    "            predict = classifier.KNN_predict(p)\n",
    "            if predict==int(p.label):\n",
    "                count += 1\n",
    "            #print(str(p.title)+\" \"+str(predict)+\"  \"+str(p.label))\n",
    "        precision = 1.0*count/len(test_set)\n",
    "        aver += precision\n",
    "      #  print(\"precision: \"+str(1.0*count/len(test_set)*100)+\"%\")\n",
    "    aver /= k_cv\n",
    "   # print(\"aver precision:\"+str(aver*100)+\"%\")\n",
    "    return aver\n",
    "    "
   ]
  },
  {
   "cell_type": "code",
   "execution_count": 5,
   "metadata": {
    "scrolled": false
   },
   "outputs": [
    {
     "name": "stderr",
     "output_type": "stream",
     "text": [
      "root        : INFO     count:1precision: 0.6586956521739131 now answer:  w=[1.0, 0.1, 0.1, 0.1, 0.0]\n",
      "root        : INFO     count:2precision: 0.6608695652173913 now answer:  w=[1.0, 0.1, 0.1, 0.3, 0.0]\n",
      "root        : INFO     count:3precision: 0.6608695652173913 now answer:  w=[1.0, 0.1, 0.1, 0.3, 0.0]\n",
      "root        : INFO     count:4precision: 0.6608695652173913 now answer:  w=[1.0, 0.1, 0.1, 0.3, 0.0]\n",
      "root        : INFO     count:5precision: 0.6608695652173913 now answer:  w=[1.0, 0.1, 0.1, 0.3, 0.0]\n",
      "root        : INFO     count:6precision: 0.641304347826087 now answer:  w=[1.0, 0.1, 0.1, 0.3, 0.0]\n",
      "root        : INFO     count:7precision: 0.641304347826087 now answer:  w=[1.0, 0.1, 0.1, 0.3, 0.0]\n",
      "root        : INFO     count:8precision: 0.6434782608695652 now answer:  w=[1.0, 0.1, 0.1, 0.3, 0.0]\n",
      "root        : INFO     count:9precision: 0.6434782608695652 now answer:  w=[1.0, 0.1, 0.1, 0.3, 0.0]\n",
      "root        : INFO     count:10precision: 0.6434782608695652 now answer:  w=[1.0, 0.1, 0.1, 0.3, 0.0]\n",
      "root        : INFO     count:11precision: 0.5978260869565217 now answer:  w=[1.0, 0.1, 0.1, 0.3, 0.0]\n",
      "root        : INFO     count:12precision: 0.6130434782608696 now answer:  w=[1.0, 0.1, 0.1, 0.3, 0.0]\n",
      "root        : INFO     count:13precision: 0.6152173913043477 now answer:  w=[1.0, 0.1, 0.1, 0.3, 0.0]\n",
      "root        : INFO     count:14precision: 0.617391304347826 now answer:  w=[1.0, 0.1, 0.1, 0.3, 0.0]\n",
      "root        : INFO     count:15precision: 0.617391304347826 now answer:  w=[1.0, 0.1, 0.1, 0.3, 0.0]\n",
      "root        : INFO     count:16precision: 0.5826086956521739 now answer:  w=[1.0, 0.1, 0.1, 0.3, 0.0]\n",
      "root        : INFO     count:17precision: 0.591304347826087 now answer:  w=[1.0, 0.1, 0.1, 0.3, 0.0]\n",
      "root        : INFO     count:18precision: 0.6021739130434783 now answer:  w=[1.0, 0.1, 0.1, 0.3, 0.0]\n",
      "root        : INFO     count:19precision: 0.6043478260869566 now answer:  w=[1.0, 0.1, 0.1, 0.3, 0.0]\n",
      "root        : INFO     count:20precision: 0.6065217391304348 now answer:  w=[1.0, 0.1, 0.1, 0.3, 0.0]\n",
      "root        : INFO     count:21precision: 0.5739130434782609 now answer:  w=[1.0, 0.1, 0.1, 0.3, 0.0]\n",
      "root        : INFO     count:22precision: 0.5782608695652174 now answer:  w=[1.0, 0.1, 0.1, 0.3, 0.0]\n",
      "root        : INFO     count:23precision: 0.5847826086956522 now answer:  w=[1.0, 0.1, 0.1, 0.3, 0.0]\n",
      "root        : INFO     count:24precision: 0.5956521739130436 now answer:  w=[1.0, 0.1, 0.1, 0.3, 0.0]\n",
      "root        : INFO     count:25precision: 0.6000000000000001 now answer:  w=[1.0, 0.1, 0.1, 0.3, 0.0]\n",
      "root        : INFO     count:26precision: 0.6652173913043478 now answer:  w=[1.0, 0.3, 0.1, 0.1, 0.0]\n",
      "root        : INFO     count:27precision: 0.6673913043478261 now answer:  w=[1.0, 0.3, 0.1, 0.3, 0.0]\n",
      "root        : INFO     count:28precision: 0.6673913043478261 now answer:  w=[1.0, 0.3, 0.1, 0.3, 0.0]\n",
      "root        : INFO     count:29precision: 0.6673913043478261 now answer:  w=[1.0, 0.3, 0.1, 0.3, 0.0]\n",
      "root        : INFO     count:30precision: 0.6673913043478261 now answer:  w=[1.0, 0.3, 0.1, 0.3, 0.0]\n",
      "root        : INFO     count:31precision: 0.6630434782608696 now answer:  w=[1.0, 0.3, 0.1, 0.3, 0.0]\n",
      "root        : INFO     count:32precision: 0.6630434782608696 now answer:  w=[1.0, 0.3, 0.1, 0.3, 0.0]\n",
      "root        : INFO     count:33precision: 0.6652173913043479 now answer:  w=[1.0, 0.3, 0.1, 0.3, 0.0]\n",
      "root        : INFO     count:34precision: 0.6652173913043479 now answer:  w=[1.0, 0.3, 0.1, 0.3, 0.0]\n",
      "root        : INFO     count:35precision: 0.6652173913043479 now answer:  w=[1.0, 0.3, 0.1, 0.3, 0.0]\n",
      "root        : INFO     count:36precision: 0.6108695652173913 now answer:  w=[1.0, 0.3, 0.1, 0.3, 0.0]\n",
      "root        : INFO     count:37precision: 0.6239130434782609 now answer:  w=[1.0, 0.3, 0.1, 0.3, 0.0]\n",
      "root        : INFO     count:38precision: 0.6260869565217391 now answer:  w=[1.0, 0.3, 0.1, 0.3, 0.0]\n",
      "root        : INFO     count:39precision: 0.6282608695652174 now answer:  w=[1.0, 0.3, 0.1, 0.3, 0.0]\n",
      "root        : INFO     count:40precision: 0.6282608695652174 now answer:  w=[1.0, 0.3, 0.1, 0.3, 0.0]\n",
      "root        : INFO     count:41precision: 0.5869565217391304 now answer:  w=[1.0, 0.3, 0.1, 0.3, 0.0]\n",
      "root        : INFO     count:42precision: 0.5956521739130435 now answer:  w=[1.0, 0.3, 0.1, 0.3, 0.0]\n",
      "root        : INFO     count:43precision: 0.6065217391304348 now answer:  w=[1.0, 0.3, 0.1, 0.3, 0.0]\n",
      "root        : INFO     count:44precision: 0.6086956521739131 now answer:  w=[1.0, 0.3, 0.1, 0.3, 0.0]\n",
      "root        : INFO     count:45precision: 0.6108695652173914 now answer:  w=[1.0, 0.3, 0.1, 0.3, 0.0]\n",
      "root        : INFO     count:46precision: 0.5782608695652174 now answer:  w=[1.0, 0.3, 0.1, 0.3, 0.0]\n",
      "root        : INFO     count:47precision: 0.5826086956521739 now answer:  w=[1.0, 0.3, 0.1, 0.3, 0.0]\n",
      "root        : INFO     count:48precision: 0.5891304347826087 now answer:  w=[1.0, 0.3, 0.1, 0.3, 0.0]\n",
      "root        : INFO     count:49precision: 0.6000000000000001 now answer:  w=[1.0, 0.3, 0.1, 0.3, 0.0]\n",
      "root        : INFO     count:50precision: 0.6043478260869566 now answer:  w=[1.0, 0.3, 0.1, 0.3, 0.0]\n",
      "root        : INFO     count:51precision: 0.658695652173913 now answer:  w=[1.0, 0.3, 0.1, 0.3, 0.0]\n",
      "root        : INFO     count:52precision: 0.6608695652173913 now answer:  w=[1.0, 0.3, 0.1, 0.3, 0.0]\n",
      "root        : INFO     count:53precision: 0.6608695652173913 now answer:  w=[1.0, 0.3, 0.1, 0.3, 0.0]\n",
      "root        : INFO     count:54precision: 0.6608695652173913 now answer:  w=[1.0, 0.3, 0.1, 0.3, 0.0]\n",
      "root        : INFO     count:55precision: 0.6608695652173913 now answer:  w=[1.0, 0.3, 0.1, 0.3, 0.0]\n",
      "root        : INFO     count:56precision: 0.6543478260869565 now answer:  w=[1.0, 0.3, 0.1, 0.3, 0.0]\n",
      "root        : INFO     count:57precision: 0.6543478260869565 now answer:  w=[1.0, 0.3, 0.1, 0.3, 0.0]\n",
      "root        : INFO     count:58precision: 0.6565217391304349 now answer:  w=[1.0, 0.3, 0.1, 0.3, 0.0]\n",
      "root        : INFO     count:59precision: 0.6565217391304349 now answer:  w=[1.0, 0.3, 0.1, 0.3, 0.0]\n",
      "root        : INFO     count:60precision: 0.6565217391304349 now answer:  w=[1.0, 0.3, 0.1, 0.3, 0.0]\n",
      "root        : INFO     count:61precision: 0.6130434782608696 now answer:  w=[1.0, 0.3, 0.1, 0.3, 0.0]\n",
      "root        : INFO     count:62precision: 0.6239130434782609 now answer:  w=[1.0, 0.3, 0.1, 0.3, 0.0]\n",
      "root        : INFO     count:63precision: 0.6260869565217393 now answer:  w=[1.0, 0.3, 0.1, 0.3, 0.0]\n",
      "root        : INFO     count:64precision: 0.6282608695652174 now answer:  w=[1.0, 0.3, 0.1, 0.3, 0.0]\n",
      "root        : INFO     count:65precision: 0.6282608695652174 now answer:  w=[1.0, 0.3, 0.1, 0.3, 0.0]\n",
      "root        : INFO     count:66precision: 0.584782608695652 now answer:  w=[1.0, 0.3, 0.1, 0.3, 0.0]\n",
      "root        : INFO     count:67precision: 0.5956521739130435 now answer:  w=[1.0, 0.3, 0.1, 0.3, 0.0]\n",
      "root        : INFO     count:68precision: 0.6065217391304347 now answer:  w=[1.0, 0.3, 0.1, 0.3, 0.0]\n",
      "root        : INFO     count:69precision: 0.6086956521739131 now answer:  w=[1.0, 0.3, 0.1, 0.3, 0.0]\n",
      "root        : INFO     count:70precision: 0.6108695652173913 now answer:  w=[1.0, 0.3, 0.1, 0.3, 0.0]\n",
      "root        : INFO     count:71precision: 0.5760869565217391 now answer:  w=[1.0, 0.3, 0.1, 0.3, 0.0]\n",
      "root        : INFO     count:72precision: 0.5804347826086957 now answer:  w=[1.0, 0.3, 0.1, 0.3, 0.0]\n",
      "root        : INFO     count:73precision: 0.5869565217391304 now answer:  w=[1.0, 0.3, 0.1, 0.3, 0.0]\n",
      "root        : INFO     count:74precision: 0.5978260869565217 now answer:  w=[1.0, 0.3, 0.1, 0.3, 0.0]\n",
      "root        : INFO     count:75precision: 0.6021739130434783 now answer:  w=[1.0, 0.3, 0.1, 0.3, 0.0]\n",
      "root        : INFO     count:76precision: 0.6369565217391304 now answer:  w=[1.0, 0.3, 0.1, 0.3, 0.0]\n",
      "root        : INFO     count:77precision: 0.6434782608695652 now answer:  w=[1.0, 0.3, 0.1, 0.3, 0.0]\n",
      "root        : INFO     count:78precision: 0.6434782608695652 now answer:  w=[1.0, 0.3, 0.1, 0.3, 0.0]\n",
      "root        : INFO     count:79precision: 0.6456521739130434 now answer:  w=[1.0, 0.3, 0.1, 0.3, 0.0]\n",
      "root        : INFO     count:80precision: 0.6456521739130434 now answer:  w=[1.0, 0.3, 0.1, 0.3, 0.0]\n",
      "root        : INFO     count:81precision: 0.6391304347826088 now answer:  w=[1.0, 0.3, 0.1, 0.3, 0.0]\n"
     ]
    },
    {
     "name": "stderr",
     "output_type": "stream",
     "text": [
      "root        : INFO     count:82precision: 0.641304347826087 now answer:  w=[1.0, 0.3, 0.1, 0.3, 0.0]\n",
      "root        : INFO     count:83precision: 0.6434782608695653 now answer:  w=[1.0, 0.3, 0.1, 0.3, 0.0]\n",
      "root        : INFO     count:84precision: 0.6456521739130434 now answer:  w=[1.0, 0.3, 0.1, 0.3, 0.0]\n",
      "root        : INFO     count:85precision: 0.6456521739130434 now answer:  w=[1.0, 0.3, 0.1, 0.3, 0.0]\n",
      "root        : INFO     count:86precision: 0.6130434782608696 now answer:  w=[1.0, 0.3, 0.1, 0.3, 0.0]\n",
      "root        : INFO     count:87precision: 0.6260869565217391 now answer:  w=[1.0, 0.3, 0.1, 0.3, 0.0]\n",
      "root        : INFO     count:88precision: 0.6260869565217391 now answer:  w=[1.0, 0.3, 0.1, 0.3, 0.0]\n",
      "root        : INFO     count:89precision: 0.6304347826086956 now answer:  w=[1.0, 0.3, 0.1, 0.3, 0.0]\n",
      "root        : INFO     count:90precision: 0.6304347826086956 now answer:  w=[1.0, 0.3, 0.1, 0.3, 0.0]\n",
      "root        : INFO     count:91precision: 0.5869565217391305 now answer:  w=[1.0, 0.3, 0.1, 0.3, 0.0]\n",
      "root        : INFO     count:92precision: 0.5956521739130436 now answer:  w=[1.0, 0.3, 0.1, 0.3, 0.0]\n",
      "root        : INFO     count:93precision: 0.6108695652173913 now answer:  w=[1.0, 0.3, 0.1, 0.3, 0.0]\n",
      "root        : INFO     count:94precision: 0.6108695652173913 now answer:  w=[1.0, 0.3, 0.1, 0.3, 0.0]\n",
      "root        : INFO     count:95precision: 0.6130434782608696 now answer:  w=[1.0, 0.3, 0.1, 0.3, 0.0]\n",
      "root        : INFO     count:96precision: 0.5717391304347827 now answer:  w=[1.0, 0.3, 0.1, 0.3, 0.0]\n",
      "root        : INFO     count:97precision: 0.5717391304347827 now answer:  w=[1.0, 0.3, 0.1, 0.3, 0.0]\n",
      "root        : INFO     count:98precision: 0.5804347826086957 now answer:  w=[1.0, 0.3, 0.1, 0.3, 0.0]\n",
      "root        : INFO     count:99precision: 0.5913043478260869 now answer:  w=[1.0, 0.3, 0.1, 0.3, 0.0]\n",
      "root        : INFO     count:100precision: 0.5956521739130435 now answer:  w=[1.0, 0.3, 0.1, 0.3, 0.0]\n",
      "root        : INFO     count:101precision: 0.5978260869565217 now answer:  w=[1.0, 0.3, 0.1, 0.3, 0.0]\n",
      "root        : INFO     count:102precision: 0.6108695652173914 now answer:  w=[1.0, 0.3, 0.1, 0.3, 0.0]\n",
      "root        : INFO     count:103precision: 0.6130434782608696 now answer:  w=[1.0, 0.3, 0.1, 0.3, 0.0]\n",
      "root        : INFO     count:104precision: 0.6130434782608696 now answer:  w=[1.0, 0.3, 0.1, 0.3, 0.0]\n",
      "root        : INFO     count:105precision: 0.6152173913043478 now answer:  w=[1.0, 0.3, 0.1, 0.3, 0.0]\n",
      "root        : INFO     count:106precision: 0.6043478260869566 now answer:  w=[1.0, 0.3, 0.1, 0.3, 0.0]\n",
      "root        : INFO     count:107precision: 0.6108695652173914 now answer:  w=[1.0, 0.3, 0.1, 0.3, 0.0]\n",
      "root        : INFO     count:108precision: 0.6152173913043478 now answer:  w=[1.0, 0.3, 0.1, 0.3, 0.0]\n",
      "root        : INFO     count:109precision: 0.6152173913043478 now answer:  w=[1.0, 0.3, 0.1, 0.3, 0.0]\n",
      "root        : INFO     count:110precision: 0.6173913043478261 now answer:  w=[1.0, 0.3, 0.1, 0.3, 0.0]\n",
      "root        : INFO     count:111precision: 0.6021739130434783 now answer:  w=[1.0, 0.3, 0.1, 0.3, 0.0]\n",
      "root        : INFO     count:112precision: 0.6086956521739131 now answer:  w=[1.0, 0.3, 0.1, 0.3, 0.0]\n",
      "root        : INFO     count:113precision: 0.6108695652173913 now answer:  w=[1.0, 0.3, 0.1, 0.3, 0.0]\n",
      "root        : INFO     count:114precision: 0.6130434782608696 now answer:  w=[1.0, 0.3, 0.1, 0.3, 0.0]\n",
      "root        : INFO     count:115precision: 0.6152173913043477 now answer:  w=[1.0, 0.3, 0.1, 0.3, 0.0]\n",
      "root        : INFO     count:116precision: 0.5717391304347826 now answer:  w=[1.0, 0.3, 0.1, 0.3, 0.0]\n",
      "root        : INFO     count:117precision: 0.5760869565217391 now answer:  w=[1.0, 0.3, 0.1, 0.3, 0.0]\n",
      "root        : INFO     count:118precision: 0.5891304347826087 now answer:  w=[1.0, 0.3, 0.1, 0.3, 0.0]\n",
      "root        : INFO     count:119precision: 0.5891304347826087 now answer:  w=[1.0, 0.3, 0.1, 0.3, 0.0]\n",
      "root        : INFO     count:120precision: 0.5934782608695651 now answer:  w=[1.0, 0.3, 0.1, 0.3, 0.0]\n",
      "root        : INFO     count:121precision: 0.5521739130434783 now answer:  w=[1.0, 0.3, 0.1, 0.3, 0.0]\n",
      "root        : INFO     count:122precision: 0.5543478260869565 now answer:  w=[1.0, 0.3, 0.1, 0.3, 0.0]\n",
      "root        : INFO     count:123precision: 0.5608695652173913 now answer:  w=[1.0, 0.3, 0.1, 0.3, 0.0]\n",
      "root        : INFO     count:124precision: 0.5717391304347825 now answer:  w=[1.0, 0.3, 0.1, 0.3, 0.0]\n",
      "root        : INFO     count:125precision: 0.5782608695652174 now answer:  w=[1.0, 0.3, 0.1, 0.3, 0.0]\n"
     ]
    }
   ],
   "source": [
    "import logging\n",
    "logging.basicConfig(level=logging.DEBUG,\n",
    "                format='%(asctime)s %(filename)s[line:%(lineno)d] %(levelname)s %(message)s',\n",
    "                datefmt='%a, %d %b %Y %H:%M:%S',\n",
    "                filename='mylog.log',\n",
    "                filemode='w')\n",
    "\n",
    "console = logging.StreamHandler()\n",
    "console.setLevel(logging.INFO)\n",
    "formatter = logging.Formatter('%(name)-12s: %(levelname)-8s %(message)s')\n",
    "console.setFormatter(formatter)\n",
    "logging.getLogger('').addHandler(console)\n",
    "\n",
    "grid_list = [0.1,0.3,1.,3.,10]\n",
    "W = [0.,0.,0.,0.,0.]\n",
    "ans = 0.\n",
    "ans_W = [0.,0.,0.,0.,0.]\n",
    "count = 0\n",
    "k = 10  # knn的k\n",
    "\n",
    "for w2 in grid_list:\n",
    "    for w3 in grid_list:\n",
    "        for w4 in grid_list:\n",
    "            W = [1.0,w2,w3,w4,0.]\n",
    "            cur = cross_verification(10,data_set,W,k)\n",
    "            if cur > ans:\n",
    "                ans = cur\n",
    "                ans_W = W\n",
    "                ans_k = k\n",
    "            count += 1\n",
    "            logging.info(\"count:\"+str(count)+\"precision: \"+str(cur)+\" now answer: \"+\" w=\"+str(ans_W))\n"
   ]
  },
  {
   "cell_type": "code",
   "execution_count": 7,
   "metadata": {
    "scrolled": true
   },
   "outputs": [
    {
     "ename": "KeyboardInterrupt",
     "evalue": "",
     "output_type": "error",
     "traceback": [
      "\u001b[0;31m-------------------------------------------------------------------\u001b[0m",
      "\u001b[0;31mKeyboardInterrupt\u001b[0m                 Traceback (most recent call last)",
      "\u001b[0;32m<ipython-input-7-80b25bc94d98>\u001b[0m in \u001b[0;36m<module>\u001b[0;34m()\u001b[0m\n\u001b[0;32m----> 1\u001b[0;31m \u001b[0mcur\u001b[0m \u001b[0;34m=\u001b[0m \u001b[0mcross_verification\u001b[0m\u001b[0;34m(\u001b[0m\u001b[0;36m10\u001b[0m\u001b[0;34m,\u001b[0m\u001b[0mdata_set\u001b[0m\u001b[0;34m,\u001b[0m\u001b[0;34m[\u001b[0m\u001b[0;36m1.\u001b[0m\u001b[0;34m,\u001b[0m\u001b[0;36m2.\u001b[0m\u001b[0;34m,\u001b[0m\u001b[0;36m0.\u001b[0m\u001b[0;34m,\u001b[0m\u001b[0;36m2.\u001b[0m\u001b[0;34m,\u001b[0m\u001b[0;36m0\u001b[0m\u001b[0;34m]\u001b[0m\u001b[0;34m,\u001b[0m\u001b[0;36m10\u001b[0m\u001b[0;34m)\u001b[0m\u001b[0;34m\u001b[0m\u001b[0m\n\u001b[0m\u001b[1;32m      2\u001b[0m \u001b[0mans\u001b[0m \u001b[0;34m=\u001b[0m \u001b[0;34m-\u001b[0m\u001b[0;36m7\u001b[0m\u001b[0;34m\u001b[0m\u001b[0m\n\u001b[1;32m      3\u001b[0m \u001b[0mans_W\u001b[0m \u001b[0;34m=\u001b[0m \u001b[0;32mNone\u001b[0m\u001b[0;34m\u001b[0m\u001b[0m\n\u001b[1;32m      4\u001b[0m \u001b[0mans_k\u001b[0m \u001b[0;34m=\u001b[0m \u001b[0;32mNone\u001b[0m\u001b[0;34m\u001b[0m\u001b[0m\n\u001b[1;32m      5\u001b[0m \u001b[0;32mif\u001b[0m \u001b[0mcur\u001b[0m \u001b[0;34m>\u001b[0m \u001b[0mans\u001b[0m\u001b[0;34m:\u001b[0m\u001b[0;34m\u001b[0m\u001b[0m\n",
      "\u001b[0;32m<ipython-input-4-968b96f1d96c>\u001b[0m in \u001b[0;36mcross_verification\u001b[0;34m(k_cv, data_set, W, k_num)\u001b[0m\n\u001b[1;32m     11\u001b[0m         \u001b[0mcount\u001b[0m \u001b[0;34m=\u001b[0m \u001b[0;36m0\u001b[0m\u001b[0;34m\u001b[0m\u001b[0m\n\u001b[1;32m     12\u001b[0m         \u001b[0;32mfor\u001b[0m \u001b[0mp\u001b[0m \u001b[0;32min\u001b[0m \u001b[0mtest_set\u001b[0m\u001b[0;34m:\u001b[0m\u001b[0;34m\u001b[0m\u001b[0m\n\u001b[0;32m---> 13\u001b[0;31m             \u001b[0mpredict\u001b[0m \u001b[0;34m=\u001b[0m \u001b[0mclassifier\u001b[0m\u001b[0;34m.\u001b[0m\u001b[0mKNN_predict\u001b[0m\u001b[0;34m(\u001b[0m\u001b[0mp\u001b[0m\u001b[0;34m)\u001b[0m\u001b[0;34m\u001b[0m\u001b[0m\n\u001b[0m\u001b[1;32m     14\u001b[0m             \u001b[0;32mif\u001b[0m \u001b[0mpredict\u001b[0m\u001b[0;34m==\u001b[0m\u001b[0mint\u001b[0m\u001b[0;34m(\u001b[0m\u001b[0mp\u001b[0m\u001b[0;34m.\u001b[0m\u001b[0mlabel\u001b[0m\u001b[0;34m)\u001b[0m\u001b[0;34m:\u001b[0m\u001b[0;34m\u001b[0m\u001b[0m\n\u001b[1;32m     15\u001b[0m                 \u001b[0mcount\u001b[0m \u001b[0;34m+=\u001b[0m \u001b[0;36m1\u001b[0m\u001b[0;34m\u001b[0m\u001b[0m\n",
      "\u001b[0;32m~/agri_cluster/wiki.zh/classifier.py\u001b[0m in \u001b[0;36mKNN_predict\u001b[0;34m(self, item)\u001b[0m\n\u001b[1;32m    222\u001b[0m                         \u001b[0mtitle_simi\u001b[0m\u001b[0;34m.\u001b[0m\u001b[0mappend\u001b[0m\u001b[0;34m(\u001b[0m\u001b[0mself\u001b[0m\u001b[0;34m.\u001b[0m\u001b[0mget_title_simi\u001b[0m\u001b[0;34m(\u001b[0m\u001b[0mp\u001b[0m\u001b[0;34m,\u001b[0m \u001b[0mitem\u001b[0m\u001b[0;34m)\u001b[0m\u001b[0;34m)\u001b[0m\u001b[0;34m\u001b[0m\u001b[0m\n\u001b[1;32m    223\u001b[0m                         \u001b[0mopenTypeList_simi\u001b[0m\u001b[0;34m.\u001b[0m\u001b[0mappend\u001b[0m\u001b[0;34m(\u001b[0m\u001b[0mself\u001b[0m\u001b[0;34m.\u001b[0m\u001b[0mget_openTypeList_simi\u001b[0m\u001b[0;34m(\u001b[0m\u001b[0mp\u001b[0m\u001b[0;34m,\u001b[0m \u001b[0mitem\u001b[0m\u001b[0;34m)\u001b[0m\u001b[0;34m)\u001b[0m\u001b[0;34m\u001b[0m\u001b[0m\n\u001b[0;32m--> 224\u001b[0;31m                         \u001b[0mbaseInfoKeyList_simi\u001b[0m\u001b[0;34m.\u001b[0m\u001b[0mappend\u001b[0m\u001b[0;34m(\u001b[0m\u001b[0mself\u001b[0m\u001b[0;34m.\u001b[0m\u001b[0mget_baseInfoKeyList_simi\u001b[0m\u001b[0;34m(\u001b[0m\u001b[0mp\u001b[0m\u001b[0;34m,\u001b[0m \u001b[0mitem\u001b[0m\u001b[0;34m)\u001b[0m\u001b[0;34m)\u001b[0m\u001b[0;34m\u001b[0m\u001b[0m\n\u001b[0m\u001b[1;32m    225\u001b[0m                         \u001b[0mbaseInfoValueList_simi\u001b[0m\u001b[0;34m.\u001b[0m\u001b[0mappend\u001b[0m\u001b[0;34m(\u001b[0m\u001b[0mself\u001b[0m\u001b[0;34m.\u001b[0m\u001b[0mget_baseInfoValueList_simi\u001b[0m\u001b[0;34m(\u001b[0m\u001b[0mp\u001b[0m\u001b[0;34m,\u001b[0m \u001b[0mitem\u001b[0m\u001b[0;34m)\u001b[0m\u001b[0;34m)\u001b[0m\u001b[0;34m\u001b[0m\u001b[0m\n\u001b[1;32m    226\u001b[0m \u001b[0;34m\u001b[0m\u001b[0m\n",
      "\u001b[0;31mKeyboardInterrupt\u001b[0m: "
     ]
    }
   ],
   "source": [
    "cur = cross_verification(10,data_set,[1.,2.,0.,2.,0],10)\n",
    "ans = -7\n",
    "ans_W = None\n",
    "ans_k = None\n",
    "if cur > ans:\n",
    "    ans = cur\n",
    "    ans_W = W\n",
    "    ans_k = k\n",
    "logging.info(\"count:\"+str(count)+\"precision: \"+str(cur)+\" now answer: \"+\" w=\"+str(ans_W))\n",
    "\n"
   ]
  },
  {
   "cell_type": "code",
   "execution_count": 19,
   "metadata": {},
   "outputs": [
    {
     "name": "stdout",
     "output_type": "stream",
     "text": [
      "0.02350459626925365 0.0 0.0 0.0\n",
      "锋面雨----0.04671318838685446  8\n",
      "原浆----0.04605804840682626  9\n",
      "单交种----0.04448714170742093  15\n",
      "温室栽培----0.044089790501554586  15\n",
      "玉米脱粒机----0.04399010501243235  14\n",
      "雹害----0.04388583106996902  11\n",
      "台风----0.043850393064465504  11\n",
      "冷害----0.043680227090469294  11\n",
      "霜冻----0.04352687991141527  11\n",
      "霜冻----0.04352687991141527  11\n"
     ]
    },
    {
     "data": {
      "text/plain": [
       "11"
      ]
     },
     "execution_count": 19,
     "metadata": {},
     "output_type": "execute_result"
    }
   ],
   "source": [
    "from hudong_class import HudongItem\n",
    "p1 = HudongItem(db.matchHudongItembyTitle('旗月鱼'))\n",
    "p2 = HudongItem(db.matchHudongItembyTitle('终霜'))\n",
    "classifier.set_parameter(weight=[0.2,0.2,0.2,0.2,0.0],k=10)\n",
    "classifier.KNN_predict(p2)"
   ]
  },
  {
   "cell_type": "code",
   "execution_count": null,
   "metadata": {
    "collapsed": true
   },
   "outputs": [],
   "source": []
  }
 ],
 "metadata": {
  "kernelspec": {
   "display_name": "Python 3",
   "language": "python",
   "name": "python3"
  },
  "language_info": {
   "codemirror_mode": {
    "name": "ipython",
    "version": 3
   },
   "file_extension": ".py",
   "mimetype": "text/x-python",
   "name": "python",
   "nbconvert_exporter": "python",
   "pygments_lexer": "ipython3",
   "version": "3.6.2"
  }
 },
 "nbformat": 4,
 "nbformat_minor": 2
}
